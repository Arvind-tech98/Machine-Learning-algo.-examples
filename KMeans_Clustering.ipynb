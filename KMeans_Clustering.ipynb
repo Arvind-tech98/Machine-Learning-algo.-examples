{
  "nbformat": 4,
  "nbformat_minor": 0,
  "metadata": {
    "colab": {
      "provenance": [],
      "authorship_tag": "ABX9TyPILtA8CMDeRFh98lT4WAO2",
      "include_colab_link": true
    },
    "kernelspec": {
      "name": "python3",
      "display_name": "Python 3"
    },
    "language_info": {
      "name": "python"
    }
  },
  "cells": [
    {
      "cell_type": "markdown",
      "metadata": {
        "id": "view-in-github",
        "colab_type": "text"
      },
      "source": [
        "<a href=\"https://colab.research.google.com/github/Arvind-tech98/Machine-Learning-algo.-examples/blob/main/KMeans_Clustering.ipynb\" target=\"_parent\"><img src=\"https://colab.research.google.com/assets/colab-badge.svg\" alt=\"Open In Colab\"/></a>"
      ]
    },
    {
      "cell_type": "markdown",
      "source": [
        "# K-means clustering\n",
        "> K-means clustering is a method of vector quantization that aims to partition n observations into k clusters in which each observation belongs to the cluster with the nearest mean (cluster centers or cluster centroid), serving as a prototype of the cluster.\n",
        "\n",
        "> In other words, K-means clustering is an unsupervised machine learning algorithm that groups data points into k clusters based on their similarity or closeness between the data points."
      ],
      "metadata": {
        "id": "1fTNcT8MdzS8"
      }
    },
    {
      "cell_type": "markdown",
      "source": [
        " Here’s an example of k-means clustering using Python with scikit-learn library"
      ],
      "metadata": {
        "id": "GcH9ReoiSbdX"
      }
    },
    {
      "cell_type": "code",
      "execution_count": null,
      "metadata": {
        "id": "YXiNXGilPYaN"
      },
      "outputs": [],
      "source": [
        "from sklearn.cluster import KMeans\n",
        "import numpy as np"
      ]
    },
    {
      "cell_type": "code",
      "source": [
        "# Generate a random dataset\n",
        "x1 = 10 * np.random.rand(100, 2)\n",
        "x1"
      ],
      "metadata": {
        "colab": {
          "base_uri": "https://localhost:8080/"
        },
        "id": "dwIDWmYiPdvB",
        "outputId": "f5d67fda-2c8d-4204-9f7b-4c49334cc691"
      },
      "execution_count": null,
      "outputs": [
        {
          "output_type": "execute_result",
          "data": {
            "text/plain": [
              "array([[9.75885430e+00, 7.00619415e+00],\n",
              "       [5.33129074e-02, 8.93459681e+00],\n",
              "       [9.74559276e+00, 9.81485996e+00],\n",
              "       [4.46074102e+00, 6.95567087e+00],\n",
              "       [7.79714028e+00, 9.34666861e+00],\n",
              "       [9.93343092e+00, 1.16398820e+00],\n",
              "       [1.43772238e+00, 9.58145894e+00],\n",
              "       [1.24164293e+00, 9.35245203e+00],\n",
              "       [4.25961968e+00, 5.60550634e+00],\n",
              "       [3.18464285e+00, 6.42357304e+00],\n",
              "       [5.89922421e-01, 3.40262013e+00],\n",
              "       [1.27032205e+00, 6.03664629e-01],\n",
              "       [1.59967939e+00, 9.79410056e+00],\n",
              "       [2.94838075e+00, 5.72078607e+00],\n",
              "       [7.64292958e-01, 7.36824375e+00],\n",
              "       [1.17621922e+00, 3.19385547e+00],\n",
              "       [7.09008876e-01, 7.07664256e+00],\n",
              "       [2.66684468e+00, 4.79580154e+00],\n",
              "       [2.13564917e+00, 9.05161201e+00],\n",
              "       [6.20268318e+00, 1.89109439e+00],\n",
              "       [6.22509827e+00, 5.42575635e+00],\n",
              "       [5.57214705e+00, 7.33821637e+00],\n",
              "       [6.39601190e+00, 3.60103997e+00],\n",
              "       [5.22681364e+00, 9.22604161e+00],\n",
              "       [5.41494341e+00, 8.67451256e+00],\n",
              "       [5.78580014e+00, 9.23940055e+00],\n",
              "       [9.27555006e+00, 2.63419536e+00],\n",
              "       [3.69622725e+00, 6.58427985e+00],\n",
              "       [8.05273358e+00, 8.72523231e+00],\n",
              "       [1.28241456e+00, 8.46360085e-01],\n",
              "       [2.67950721e+00, 5.59335870e+00],\n",
              "       [8.73411585e+00, 2.48944159e+00],\n",
              "       [9.50476603e+00, 4.50862557e+00],\n",
              "       [5.66827294e+00, 7.85301228e+00],\n",
              "       [3.26997060e+00, 3.82240711e-01],\n",
              "       [5.74038833e+00, 8.71812263e+00],\n",
              "       [4.27003573e+00, 7.14427355e+00],\n",
              "       [4.70386815e+00, 7.57456859e+00],\n",
              "       [3.20387194e+00, 8.37538257e+00],\n",
              "       [4.98557689e+00, 2.05538048e+00],\n",
              "       [1.08343114e+00, 2.42850378e+00],\n",
              "       [7.44595086e+00, 3.14056742e+00],\n",
              "       [7.40025213e+00, 3.82827530e+00],\n",
              "       [9.31873310e-01, 8.75637574e+00],\n",
              "       [6.69689333e+00, 7.59610272e+00],\n",
              "       [1.16186840e+00, 9.78017622e+00],\n",
              "       [9.14947562e+00, 8.35582373e+00],\n",
              "       [3.31797613e+00, 4.48195868e+00],\n",
              "       [4.16098520e+00, 8.21378701e+00],\n",
              "       [4.84741422e+00, 7.15159015e+00],\n",
              "       [2.08768241e-01, 9.84945886e+00],\n",
              "       [3.33569818e+00, 3.23071494e+00],\n",
              "       [5.69990320e+00, 7.20418076e+00],\n",
              "       [2.69197231e+00, 9.64189252e+00],\n",
              "       [6.31973965e+00, 5.50011059e+00],\n",
              "       [6.41911677e-01, 4.93406390e+00],\n",
              "       [7.03427030e+00, 9.49074232e+00],\n",
              "       [9.82477808e+00, 3.13831545e+00],\n",
              "       [2.97508431e+00, 7.27590414e+00],\n",
              "       [2.72589095e+00, 5.07136204e+00],\n",
              "       [3.06307751e+00, 6.33254989e+00],\n",
              "       [7.76153609e+00, 2.71424371e+00],\n",
              "       [9.18774493e+00, 5.56072732e+00],\n",
              "       [6.11982557e+00, 3.35634149e+00],\n",
              "       [4.71978049e+00, 5.52189660e+00],\n",
              "       [3.27545404e+00, 2.98257223e+00],\n",
              "       [7.92203903e+00, 1.72760209e+00],\n",
              "       [9.18641680e+00, 4.89022658e+00],\n",
              "       [4.35846747e+00, 3.17387675e+00],\n",
              "       [3.66505166e+00, 4.70339986e+00],\n",
              "       [6.27720090e-01, 5.27235693e-01],\n",
              "       [2.30372421e+00, 2.95568442e+00],\n",
              "       [4.62991184e-01, 7.77798627e+00],\n",
              "       [3.19739059e+00, 3.49588469e+00],\n",
              "       [6.95187872e+00, 9.02655368e+00],\n",
              "       [1.20190565e+00, 8.63617671e+00],\n",
              "       [5.82369041e+00, 2.02214085e+00],\n",
              "       [4.01813487e+00, 2.12290284e+00],\n",
              "       [3.30037131e+00, 9.69784239e+00],\n",
              "       [6.14893404e+00, 6.16697009e+00],\n",
              "       [9.32198299e+00, 3.43246339e+00],\n",
              "       [4.86801789e+00, 1.94596630e+00],\n",
              "       [6.15165593e-01, 7.66279192e+00],\n",
              "       [7.78932129e+00, 8.01646477e+00],\n",
              "       [2.95850031e-01, 5.94132065e+00],\n",
              "       [7.79278395e+00, 7.22577118e+00],\n",
              "       [5.89123060e+00, 2.78866269e+00],\n",
              "       [7.07262711e-01, 3.35587857e+00],\n",
              "       [5.07881551e+00, 1.48393903e+00],\n",
              "       [6.39614706e+00, 8.54595774e+00],\n",
              "       [5.87953933e-01, 7.32085309e+00],\n",
              "       [2.80827077e+00, 2.04279963e+00],\n",
              "       [3.48112883e+00, 8.99049057e-01],\n",
              "       [8.42379503e+00, 8.68639348e-01],\n",
              "       [8.91357081e+00, 5.89255470e+00],\n",
              "       [9.89760824e+00, 8.41063600e-01],\n",
              "       [5.17127889e+00, 3.62613886e+00],\n",
              "       [5.94400871e+00, 8.91124066e+00],\n",
              "       [9.81912285e+00, 9.74873356e+00],\n",
              "       [3.54981831e-03, 4.20229089e+00]])"
            ]
          },
          "metadata": {},
          "execution_count": 12
        }
      ]
    },
    {
      "cell_type": "code",
      "source": [
        "# Create a k-means model with 3 clusters\n",
        "kmeans = KMeans(n_clusters=3, random_state=0,n_init=\"auto\")"
      ],
      "metadata": {
        "id": "deAcOKwCQX8p"
      },
      "execution_count": null,
      "outputs": []
    },
    {
      "cell_type": "code",
      "source": [
        "# Fit the model to the data\n",
        "kmeans.fit(x1)"
      ],
      "metadata": {
        "colab": {
          "base_uri": "https://localhost:8080/",
          "height": 74
        },
        "id": "xrO3OUHDQapr",
        "outputId": "a82754f5-48f2-4f7a-f4a7-df8af2bbd116"
      },
      "execution_count": null,
      "outputs": [
        {
          "output_type": "execute_result",
          "data": {
            "text/plain": [
              "KMeans(n_clusters=3, n_init='auto', random_state=0)"
            ],
            "text/html": [
              "<style>#sk-container-id-3 {color: black;background-color: white;}#sk-container-id-3 pre{padding: 0;}#sk-container-id-3 div.sk-toggleable {background-color: white;}#sk-container-id-3 label.sk-toggleable__label {cursor: pointer;display: block;width: 100%;margin-bottom: 0;padding: 0.3em;box-sizing: border-box;text-align: center;}#sk-container-id-3 label.sk-toggleable__label-arrow:before {content: \"▸\";float: left;margin-right: 0.25em;color: #696969;}#sk-container-id-3 label.sk-toggleable__label-arrow:hover:before {color: black;}#sk-container-id-3 div.sk-estimator:hover label.sk-toggleable__label-arrow:before {color: black;}#sk-container-id-3 div.sk-toggleable__content {max-height: 0;max-width: 0;overflow: hidden;text-align: left;background-color: #f0f8ff;}#sk-container-id-3 div.sk-toggleable__content pre {margin: 0.2em;color: black;border-radius: 0.25em;background-color: #f0f8ff;}#sk-container-id-3 input.sk-toggleable__control:checked~div.sk-toggleable__content {max-height: 200px;max-width: 100%;overflow: auto;}#sk-container-id-3 input.sk-toggleable__control:checked~label.sk-toggleable__label-arrow:before {content: \"▾\";}#sk-container-id-3 div.sk-estimator input.sk-toggleable__control:checked~label.sk-toggleable__label {background-color: #d4ebff;}#sk-container-id-3 div.sk-label input.sk-toggleable__control:checked~label.sk-toggleable__label {background-color: #d4ebff;}#sk-container-id-3 input.sk-hidden--visually {border: 0;clip: rect(1px 1px 1px 1px);clip: rect(1px, 1px, 1px, 1px);height: 1px;margin: -1px;overflow: hidden;padding: 0;position: absolute;width: 1px;}#sk-container-id-3 div.sk-estimator {font-family: monospace;background-color: #f0f8ff;border: 1px dotted black;border-radius: 0.25em;box-sizing: border-box;margin-bottom: 0.5em;}#sk-container-id-3 div.sk-estimator:hover {background-color: #d4ebff;}#sk-container-id-3 div.sk-parallel-item::after {content: \"\";width: 100%;border-bottom: 1px solid gray;flex-grow: 1;}#sk-container-id-3 div.sk-label:hover label.sk-toggleable__label {background-color: #d4ebff;}#sk-container-id-3 div.sk-serial::before {content: \"\";position: absolute;border-left: 1px solid gray;box-sizing: border-box;top: 0;bottom: 0;left: 50%;z-index: 0;}#sk-container-id-3 div.sk-serial {display: flex;flex-direction: column;align-items: center;background-color: white;padding-right: 0.2em;padding-left: 0.2em;position: relative;}#sk-container-id-3 div.sk-item {position: relative;z-index: 1;}#sk-container-id-3 div.sk-parallel {display: flex;align-items: stretch;justify-content: center;background-color: white;position: relative;}#sk-container-id-3 div.sk-item::before, #sk-container-id-3 div.sk-parallel-item::before {content: \"\";position: absolute;border-left: 1px solid gray;box-sizing: border-box;top: 0;bottom: 0;left: 50%;z-index: -1;}#sk-container-id-3 div.sk-parallel-item {display: flex;flex-direction: column;z-index: 1;position: relative;background-color: white;}#sk-container-id-3 div.sk-parallel-item:first-child::after {align-self: flex-end;width: 50%;}#sk-container-id-3 div.sk-parallel-item:last-child::after {align-self: flex-start;width: 50%;}#sk-container-id-3 div.sk-parallel-item:only-child::after {width: 0;}#sk-container-id-3 div.sk-dashed-wrapped {border: 1px dashed gray;margin: 0 0.4em 0.5em 0.4em;box-sizing: border-box;padding-bottom: 0.4em;background-color: white;}#sk-container-id-3 div.sk-label label {font-family: monospace;font-weight: bold;display: inline-block;line-height: 1.2em;}#sk-container-id-3 div.sk-label-container {text-align: center;}#sk-container-id-3 div.sk-container {/* jupyter's `normalize.less` sets `[hidden] { display: none; }` but bootstrap.min.css set `[hidden] { display: none !important; }` so we also need the `!important` here to be able to override the default hidden behavior on the sphinx rendered scikit-learn.org. See: https://github.com/scikit-learn/scikit-learn/issues/21755 */display: inline-block !important;position: relative;}#sk-container-id-3 div.sk-text-repr-fallback {display: none;}</style><div id=\"sk-container-id-3\" class=\"sk-top-container\"><div class=\"sk-text-repr-fallback\"><pre>KMeans(n_clusters=3, n_init=&#x27;auto&#x27;, random_state=0)</pre><b>In a Jupyter environment, please rerun this cell to show the HTML representation or trust the notebook. <br />On GitHub, the HTML representation is unable to render, please try loading this page with nbviewer.org.</b></div><div class=\"sk-container\" hidden><div class=\"sk-item\"><div class=\"sk-estimator sk-toggleable\"><input class=\"sk-toggleable__control sk-hidden--visually\" id=\"sk-estimator-id-3\" type=\"checkbox\" checked><label for=\"sk-estimator-id-3\" class=\"sk-toggleable__label sk-toggleable__label-arrow\">KMeans</label><div class=\"sk-toggleable__content\"><pre>KMeans(n_clusters=3, n_init=&#x27;auto&#x27;, random_state=0)</pre></div></div></div></div></div>"
            ]
          },
          "metadata": {},
          "execution_count": 14
        }
      ]
    },
    {
      "cell_type": "code",
      "source": [
        "# Get the cluster assignments for each data point\n",
        "labels = kmeans.labels_\n",
        "labels"
      ],
      "metadata": {
        "colab": {
          "base_uri": "https://localhost:8080/"
        },
        "id": "aOUS_69AQc8M",
        "outputId": "18139048-d8f0-4739-923a-eb6fde6ac910"
      },
      "execution_count": null,
      "outputs": [
        {
          "output_type": "execute_result",
          "data": {
            "text/plain": [
              "array([0, 2, 0, 2, 0, 1, 2, 2, 2, 2, 1, 1, 2, 2, 2, 1, 2, 2, 2, 1, 0, 0,\n",
              "       1, 0, 0, 0, 1, 2, 0, 1, 2, 1, 0, 0, 1, 0, 2, 2, 2, 1, 1, 1, 1, 2,\n",
              "       0, 2, 0, 1, 2, 0, 2, 1, 0, 2, 0, 2, 0, 0, 2, 2, 2, 1, 0, 1, 1, 1,\n",
              "       1, 0, 1, 1, 1, 1, 2, 1, 0, 2, 1, 1, 2, 0, 0, 1, 2, 0, 2, 0, 1, 1,\n",
              "       1, 0, 2, 1, 1, 1, 0, 1, 1, 0, 0, 2], dtype=int32)"
            ]
          },
          "metadata": {},
          "execution_count": 15
        }
      ]
    },
    {
      "cell_type": "code",
      "source": [
        "# Get the coordinates of the cluster centers\n",
        "cluster_centers = kmeans.cluster_centers_\n",
        "cluster_centers"
      ],
      "metadata": {
        "colab": {
          "base_uri": "https://localhost:8080/"
        },
        "id": "QbCo7erSQhJg",
        "outputId": "167de21c-c494-49bb-9865-30ec00155ef7"
      },
      "execution_count": null,
      "outputs": [
        {
          "output_type": "execute_result",
          "data": {
            "text/plain": [
              "array([[7.38389791, 7.39103908],\n",
              "       [4.75188511, 2.50080593],\n",
              "       [2.09225052, 7.48567091]])"
            ]
          },
          "metadata": {},
          "execution_count": 16
        }
      ]
    },
    {
      "cell_type": "code",
      "source": [],
      "metadata": {
        "id": "olFZK3ZBQiH-"
      },
      "execution_count": null,
      "outputs": []
    }
  ]
}